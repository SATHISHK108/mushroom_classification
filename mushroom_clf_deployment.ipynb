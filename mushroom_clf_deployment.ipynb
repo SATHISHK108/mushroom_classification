{
 "cells": [
  {
   "cell_type": "code",
   "execution_count": 1,
   "id": "4124c405",
   "metadata": {},
   "outputs": [],
   "source": [
    "import pandas as pd\n",
    "import numpy as np\n",
    "import pickle\n",
    "\n",
    "df=pd.read_csv('mushrooms.csv')\n",
    "df['class'] = df['class'].replace(['p','e'],['0','1'])\n",
    "x = df.drop('class', axis=1)\n",
    "col = x.columns\n",
    "y = df['class']\n",
    "x = pd.get_dummies(x,columns=col,drop_first=True)\n",
    "\n",
    "from sklearn.model_selection import train_test_split\n",
    "from sklearn.linear_model import LogisticRegression\n",
    "\n",
    "X_train,X_test,y_train,y_test = train_test_split(x,y,test_size=0.20,random_state=0)\n",
    "\n",
    "clf = LogisticRegression(random_state=0)\n",
    "clf.fit(X_train, y_train)\n",
    "\n",
    "filename = 'Mushroom_clf_model.pkl'\n",
    "pickle.dump(clf,open(filename,'wb'))"
   ]
  },
  {
   "cell_type": "code",
   "execution_count": null,
   "id": "7e8f1e8b",
   "metadata": {},
   "outputs": [],
   "source": []
  },
  {
   "cell_type": "code",
   "execution_count": null,
   "id": "13791b12",
   "metadata": {},
   "outputs": [],
   "source": []
  }
 ],
 "metadata": {
  "kernelspec": {
   "display_name": "Python 3",
   "language": "python",
   "name": "python3"
  },
  "language_info": {
   "codemirror_mode": {
    "name": "ipython",
    "version": 3
   },
   "file_extension": ".py",
   "mimetype": "text/x-python",
   "name": "python",
   "nbconvert_exporter": "python",
   "pygments_lexer": "ipython3",
   "version": "3.8.8"
  }
 },
 "nbformat": 4,
 "nbformat_minor": 5
}
